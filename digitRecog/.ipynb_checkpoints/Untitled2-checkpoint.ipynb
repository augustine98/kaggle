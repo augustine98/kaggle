{
 "cells": [
  {
   "cell_type": "code",
   "execution_count": 1,
   "metadata": {},
   "outputs": [
    {
     "name": "stdout",
     "output_type": "stream",
     "text": [
      " Volume in drive C has no label.\n",
      " Volume Serial Number is D3C1-50E0\n",
      "\n",
      " Directory of C:\\Users\\augus\\Dev\\Python\\digitRecog\n",
      "\n",
      "31-12-2018  04.33 AM    <DIR>          .\n",
      "31-12-2018  04.33 AM    <DIR>          ..\n",
      "31-12-2018  04.33 AM    <DIR>          .ipynb_checkpoints\n",
      "29-12-2018  11.07 PM           188,430 digitHead.csv\n",
      "29-12-2018  11.07 PM               243 rec.py\n",
      "29-12-2018  11.48 PM           240,909 sample_submission.csv\n",
      "30-12-2018  01.02 AM           240,909 submit.csv\n",
      "29-12-2018  11.48 PM        51,118,296 test.csv\n",
      "31-12-2018  02.35 AM           181,188 titano.ipynb\n",
      "29-12-2018  02.05 PM        76,775,041 train.csv\n",
      "30-12-2018  01.01 AM               696 try.py\n",
      "30-12-2018  11.54 PM           100,743 Untitled.ipynb\n",
      "31-12-2018  02.33 AM           179,005 Untitled1.ipynb\n",
      "31-12-2018  04.33 AM                72 Untitled2.ipynb\n",
      "              11 File(s)    129,025,532 bytes\n",
      "               3 Dir(s)  111,485,444,096 bytes free\n"
     ]
    }
   ],
   "source": [
    "ls\n"
   ]
  },
  {
   "cell_type": "code",
   "execution_count": 2,
   "metadata": {},
   "outputs": [
    {
     "data": {
      "text/plain": [
       "'C:\\\\Users\\\\augus\\\\Dev\\\\Python\\\\digitRecog'"
      ]
     },
     "execution_count": 2,
     "metadata": {},
     "output_type": "execute_result"
    }
   ],
   "source": [
    "pwd\n"
   ]
  },
  {
   "cell_type": "code",
   "execution_count": 3,
   "metadata": {},
   "outputs": [],
   "source": [
    "import os\n",
    "os.chdir('C:\\\\Users\\\\augus\\\\Dev\\\\Python\\\\titanic')"
   ]
  },
  {
   "cell_type": "code",
   "execution_count": 33,
   "metadata": {},
   "outputs": [
    {
     "name": "stderr",
     "output_type": "stream",
     "text": [
      "C:\\Users\\augus\\Dev\\Python\\titanic\\uti.py:3: SettingWithCopyWarning: \n",
      "A value is trying to be set on a copy of a slice from a DataFrame.\n",
      "Try using .loc[row_indexer,col_indexer] = value instead\n",
      "\n",
      "See the caveats in the documentation: http://pandas.pydata.org/pandas-docs/stable/indexing.html#indexing-view-versus-copy\n",
      "  data[\"Fare\"]=data[\"Fare\"].fillna(data[\"Fare\"].dropna().median())\n",
      "C:\\Users\\augus\\Dev\\Python\\titanic\\uti.py:4: SettingWithCopyWarning: \n",
      "A value is trying to be set on a copy of a slice from a DataFrame.\n",
      "Try using .loc[row_indexer,col_indexer] = value instead\n",
      "\n",
      "See the caveats in the documentation: http://pandas.pydata.org/pandas-docs/stable/indexing.html#indexing-view-versus-copy\n",
      "  data[\"Age\"]=data[\"Age\"].fillna(data[\"Age\"].dropna().median())\n",
      "C:\\Users\\augus\\Dev\\Python\\titanic\\uti.py:5: SettingWithCopyWarning: \n",
      "A value is trying to be set on a copy of a slice from a DataFrame.\n",
      "Try using .loc[row_indexer,col_indexer] = value instead\n",
      "\n",
      "See the caveats in the documentation: http://pandas.pydata.org/pandas-docs/stable/indexing.html#indexing-view-versus-copy\n",
      "  data[\"Pclass\"]=data[\"Pclass\"].fillna(data[\"Pclass\"].dropna().median())\n",
      "C:\\Users\\augus\\Anaconda3\\lib\\site-packages\\pandas\\core\\indexing.py:543: SettingWithCopyWarning: \n",
      "A value is trying to be set on a copy of a slice from a DataFrame.\n",
      "Try using .loc[row_indexer,col_indexer] = value instead\n",
      "\n",
      "See the caveats in the documentation: http://pandas.pydata.org/pandas-docs/stable/indexing.html#indexing-view-versus-copy\n",
      "  self.obj[item] = s\n",
      "C:\\Users\\augus\\Dev\\Python\\titanic\\uti.py:11: SettingWithCopyWarning: \n",
      "A value is trying to be set on a copy of a slice from a DataFrame.\n",
      "Try using .loc[row_indexer,col_indexer] = value instead\n",
      "\n",
      "See the caveats in the documentation: http://pandas.pydata.org/pandas-docs/stable/indexing.html#indexing-view-versus-copy\n",
      "  data[\"Embarked\"]=data[\"Embarked\"].fillna(\"S\")\n"
     ]
    },
    {
     "name": "stdout",
     "output_type": "stream",
     "text": [
      " Train Size  (623, 11)\n",
      " Train Size  (623, 1)\n",
      " Train Size  (268, 11)\n",
      " Train Size  (268, 1)\n",
      "[array([False,  True, False,  True, False,  True,  True,  True, False,\n",
      "        True,  True,  True,  True,  True,  True,  True, False,  True,\n",
      "        True,  True,  True,  True, False,  True,  True,  True, False,\n",
      "       False,  True, False,  True,  True,  True, False, False,  True,\n",
      "       False,  True,  True, False,  True, False,  True, False,  True,\n",
      "        True,  True,  True,  True,  True,  True,  True,  True,  True,\n",
      "        True,  True,  True,  True,  True,  True, False,  True,  True,\n",
      "        True, False, False,  True, False,  True,  True,  True,  True,\n",
      "        True,  True,  True,  True, False,  True, False,  True,  True,\n",
      "        True,  True, False, False,  True,  True,  True,  True, False,\n",
      "        True,  True,  True, False, False,  True, False, False,  True,\n",
      "        True,  True,  True,  True,  True,  True, False,  True,  True,\n",
      "       False,  True,  True,  True,  True,  True,  True,  True,  True,\n",
      "        True,  True,  True,  True,  True,  True,  True,  True,  True,\n",
      "        True, False,  True,  True,  True, False,  True, False,  True,\n",
      "       False,  True, False,  True,  True,  True, False, False,  True,\n",
      "        True,  True,  True, False,  True,  True,  True,  True,  True,\n",
      "       False,  True, False, False,  True,  True, False, False, False,\n",
      "        True,  True,  True,  True,  True,  True,  True,  True,  True,\n",
      "        True,  True,  True,  True, False, False,  True,  True, False,\n",
      "        True,  True,  True, False, False, False,  True, False, False,\n",
      "        True,  True,  True,  True, False,  True,  True,  True,  True,\n",
      "        True,  True,  True, False,  True, False, False,  True,  True,\n",
      "        True,  True,  True, False,  True,  True, False,  True,  True,\n",
      "       False, False, False, False, False, False,  True, False,  True,\n",
      "        True,  True,  True,  True,  True,  True,  True, False,  True,\n",
      "        True, False,  True, False,  True,  True,  True,  True, False,\n",
      "        True,  True,  True,  True,  True,  True, False, False,  True,\n",
      "       False, False, False, False,  True, False,  True,  True, False,\n",
      "        True,  True, False,  True,  True,  True, False])]\n",
      "189\n"
     ]
    },
    {
     "name": "stderr",
     "output_type": "stream",
     "text": [
      "C:\\Users\\augus\\Anaconda3\\lib\\site-packages\\ipykernel_launcher.py:60: DataConversionWarning: A column-vector y was passed when a 1d array was expected. Please change the shape of y to (n_samples,), for example using ravel().\n"
     ]
    },
    {
     "name": "stdout",
     "output_type": "stream",
     "text": [
      "Score with random forest  0.9101123595505618\n",
      "[array([False,  True,  True,  True, False,  True,  True,  True,  True,\n",
      "        True,  True,  True,  True,  True,  True,  True, False,  True,\n",
      "        True,  True,  True,  True, False,  True,  True,  True,  True,\n",
      "       False,  True, False,  True, False,  True, False, False,  True,\n",
      "       False,  True,  True,  True,  True,  True,  True,  True,  True,\n",
      "        True,  True,  True,  True, False,  True,  True,  True,  True,\n",
      "        True,  True,  True,  True,  True, False,  True,  True,  True,\n",
      "        True,  True, False,  True,  True,  True,  True, False,  True,\n",
      "        True,  True,  True,  True, False,  True, False,  True,  True,\n",
      "        True,  True,  True,  True,  True,  True,  True,  True,  True,\n",
      "        True,  True,  True,  True,  True,  True, False, False,  True,\n",
      "        True,  True,  True,  True,  True,  True,  True,  True,  True,\n",
      "       False, False,  True,  True,  True,  True,  True,  True,  True,\n",
      "        True,  True,  True,  True,  True,  True,  True,  True, False,\n",
      "        True, False,  True,  True,  True, False,  True,  True,  True,\n",
      "       False,  True,  True,  True,  True,  True, False,  True,  True,\n",
      "        True,  True,  True,  True,  True,  True,  True,  True,  True,\n",
      "        True,  True,  True,  True,  True,  True, False,  True, False,\n",
      "        True,  True,  True,  True,  True,  True,  True,  True,  True,\n",
      "        True,  True, False,  True,  True, False,  True,  True, False,\n",
      "        True,  True,  True,  True,  True, False,  True,  True, False,\n",
      "        True,  True,  True,  True, False,  True,  True,  True,  True,\n",
      "        True,  True,  True,  True,  True, False, False,  True,  True,\n",
      "       False,  True,  True, False,  True,  True,  True,  True,  True,\n",
      "        True,  True,  True,  True,  True, False,  True, False,  True,\n",
      "        True,  True,  True,  True, False,  True,  True,  True,  True,\n",
      "        True, False,  True, False,  True,  True,  True,  True,  True,\n",
      "        True,  True,  True,  True,  True,  True, False,  True,  True,\n",
      "        True,  True, False, False,  True,  True,  True,  True,  True,\n",
      "       False,  True, False,  True,  True,  True, False])]\n",
      "220\n"
     ]
    }
   ],
   "source": [
    "import pandas as pd\n",
    "import matplotlib.pyplot as plt\n",
    "import numpy as np\n",
    "import uti\n",
    "from sklearn.tree import DecisionTreeClassifier\n",
    "from sklearn.ensemble import RandomForestClassifier\n",
    "#from sklearn.preprocessing import MinMaxScaler\n",
    "from sklearn.model_selection import train_test_split\n",
    "\n",
    "\n",
    "X_tr = pd.read_csv('train.csv')\n",
    "X_ts= pd.read_csv('test.csv')\n",
    "\n",
    "\n",
    "#X=df\n",
    "\n",
    "#y=df[[\"Survived\"]]\n",
    "#X_tr,X_ts,a,b = train_test_split(X,y,test_size=0.3,random_state=42)\n",
    "\n",
    "\n",
    "pId_tr, X_train,y_train =uti.clean(X_tr)\n",
    "pId_ts, X_test,y_test =uti.clean(X_ts)\n",
    "\n",
    "print( \" Train Size \", X_train.shape)\n",
    "print( \" Train Size \", y_train.shape)\n",
    "print( \" Train Size \", X_test.shape)\n",
    "print( \" Train Size \", y_test.shape)\n",
    "\n",
    "\n",
    "\n",
    "model =DecisionTreeClassifier()\n",
    "model.fit(X_train,y_train)\n",
    "predictions = model.predict(X_test)\n",
    "\n",
    "\"\"\"\n",
    "print(X_train.head())\n",
    "print(y_train.head())\n",
    "print(X_test.head())\n",
    "print(y_test.head())\n",
    "\"\"\"\n",
    "\"\"\"\n",
    "#print(len(predictions))\n",
    "#print(predictions)\n",
    "out = y_test[\"Survived\"].values\n",
    "#print(out)\n",
    "\n",
    "scor = [predictions==out]\n",
    "print(scor)\n",
    "print(np.sum(sum(scor)))\n",
    "\n",
    "\"\"\"\n",
    "\n",
    "\n",
    "random_forest = RandomForestClassifier(criterion = \"gini\", \n",
    "                                       min_samples_leaf = 1, \n",
    "                                       min_samples_split = 10,   \n",
    "                                       n_estimators=100, \n",
    "                                       max_features='auto', \n",
    "                                       oob_score=True, \n",
    "                                       random_state=1, \n",
    "                                       n_jobs=-1)\n",
    "\n",
    "random_forest.fit(X_train, y_train)\n",
    "Y_prediction = random_forest.predict(X_test)\n",
    "print(\"Score with random forest \",random_forest.score(X_train, y_train))\n",
    "\n",
    "\"\"\"\n",
    "scor = [Y_prediction==out]\n",
    "print(scor)\n",
    "print(np.sum(sum(scor)))\n",
    "\"\"\""
   ]
  },
  {
   "cell_type": "code",
   "execution_count": 26,
   "metadata": {},
   "outputs": [
    {
     "data": {
      "text/plain": [
       "0.742296918767507"
      ]
     },
     "execution_count": 26,
     "metadata": {},
     "output_type": "execute_result"
    }
   ],
   "source": [
    "265/357"
   ]
  },
  {
   "cell_type": "code",
   "execution_count": 23,
   "metadata": {},
   "outputs": [
    {
     "data": {
      "text/plain": [
       "98.07"
      ]
     },
     "execution_count": 23,
     "metadata": {},
     "output_type": "execute_result"
    }
   ],
   "source": [
    "round(model.score(X_train, y_train) * 100, 2)"
   ]
  },
  {
   "cell_type": "code",
   "execution_count": 35,
   "metadata": {},
   "outputs": [
    {
     "data": {
      "text/plain": [
       "0.8208955223880597"
      ]
     },
     "execution_count": 35,
     "metadata": {},
     "output_type": "execute_result"
    }
   ],
   "source": [
    "220/268"
   ]
  },
  {
   "cell_type": "code",
   "execution_count": null,
   "metadata": {},
   "outputs": [],
   "source": []
  },
  {
   "cell_type": "code",
   "execution_count": null,
   "metadata": {},
   "outputs": [],
   "source": []
  }
 ],
 "metadata": {
  "kernelspec": {
   "display_name": "Python 3",
   "language": "python",
   "name": "python3"
  },
  "language_info": {
   "codemirror_mode": {
    "name": "ipython",
    "version": 3
   },
   "file_extension": ".py",
   "mimetype": "text/x-python",
   "name": "python",
   "nbconvert_exporter": "python",
   "pygments_lexer": "ipython3",
   "version": "3.7.0"
  }
 },
 "nbformat": 4,
 "nbformat_minor": 2
}
