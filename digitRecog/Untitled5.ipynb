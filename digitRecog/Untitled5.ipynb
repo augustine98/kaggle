{
 "cells": [
  {
   "cell_type": "code",
   "execution_count": 12,
   "metadata": {},
   "outputs": [],
   "source": [
    "import tensorflow as tf\n",
    "import pandas as pd\n",
    "import numpy as np\n",
    "d1 = pd.read_csv(\"train.csv\")\n",
    "d2 = pd.read_csv(\"test.csv\")\n"
   ]
  },
  {
   "cell_type": "code",
   "execution_count": 8,
   "metadata": {},
   "outputs": [],
   "source": [
    "y_train = d1[[\"label\"]].values\n",
    "X_train = d1.drop([\"label\"],axis=1).values\n",
    "X_test= d2.values"
   ]
  },
  {
   "cell_type": "code",
   "execution_count": 9,
   "metadata": {},
   "outputs": [],
   "source": [
    "model = tf.keras.models.Sequential([\n",
    "  tf.keras.layers.Flatten(),\n",
    "  tf.keras.layers.Dense(512, activation=tf.nn.relu),\n",
    "  tf.keras.layers.Dropout(0.2),\n",
    "  tf.keras.layers.Dense(10, activation=tf.nn.softmax)\n",
    "])\n",
    "\n",
    "model.compile(optimizer='adam',\n",
    "              loss='sparse_categorical_crossentropy',\n",
    "              metrics=['accuracy'])\n"
   ]
  },
  {
   "cell_type": "code",
   "execution_count": 14,
   "metadata": {},
   "outputs": [
    {
     "name": "stdout",
     "output_type": "stream",
     "text": [
      "Epoch 1/30\n",
      "42000/42000 [==============================] - 10s 242us/step - loss: 14.6617 - acc: 0.0904\n",
      "Epoch 2/30\n",
      "42000/42000 [==============================] - 10s 243us/step - loss: 14.6617 - acc: 0.0904\n",
      "Epoch 3/30\n",
      "42000/42000 [==============================] - 10s 242us/step - loss: 14.6617 - acc: 0.0904\n",
      "Epoch 4/30\n",
      "42000/42000 [==============================] - 10s 245us/step - loss: 14.6617 - acc: 0.0904\n",
      "Epoch 5/30\n",
      "42000/42000 [==============================] - 10s 244us/step - loss: 14.6617 - acc: 0.0904\n",
      "Epoch 6/30\n",
      "42000/42000 [==============================] - 10s 244us/step - loss: 14.6617 - acc: 0.0904\n",
      "Epoch 7/30\n",
      "42000/42000 [==============================] - 10s 246us/step - loss: 14.6617 - acc: 0.0904\n",
      "Epoch 8/30\n",
      "42000/42000 [==============================] - 10s 246us/step - loss: 14.6617 - acc: 0.0904\n",
      "Epoch 9/30\n",
      "42000/42000 [==============================] - 11s 250us/step - loss: 14.6617 - acc: 0.0904\n",
      "Epoch 10/30\n",
      "42000/42000 [==============================] - 10s 246us/step - loss: 14.6617 - acc: 0.0904\n",
      "Epoch 11/30\n",
      "42000/42000 [==============================] - 10s 247us/step - loss: 14.6617 - acc: 0.0904\n",
      "Epoch 12/30\n",
      "42000/42000 [==============================] - 11s 251us/step - loss: 14.6617 - acc: 0.0904\n",
      "Epoch 13/30\n",
      "42000/42000 [==============================] - 10s 246us/step - loss: 14.6617 - acc: 0.0904\n",
      "Epoch 14/30\n",
      "42000/42000 [==============================] - 12s 276us/step - loss: 14.6617 - acc: 0.0904\n",
      "Epoch 15/30\n",
      "42000/42000 [==============================] - 10s 246us/step - loss: 14.6617 - acc: 0.0904\n",
      "Epoch 16/30\n",
      "42000/42000 [==============================] - 11s 250us/step - loss: 14.6617 - acc: 0.0904\n",
      "Epoch 17/30\n",
      "42000/42000 [==============================] - 11s 251us/step - loss: 14.6617 - acc: 0.0904\n",
      "Epoch 18/30\n",
      "42000/42000 [==============================] - 10s 246us/step - loss: 14.6617 - acc: 0.0904\n",
      "Epoch 19/30\n",
      "42000/42000 [==============================] - 10s 246us/step - loss: 14.6617 - acc: 0.0904\n",
      "Epoch 20/30\n",
      "42000/42000 [==============================] - 10s 234us/step - loss: 14.6617 - acc: 0.0904\n",
      "Epoch 21/30\n",
      "42000/42000 [==============================] - 10s 232us/step - loss: 14.6617 - acc: 0.0904\n",
      "Epoch 22/30\n",
      "42000/42000 [==============================] - 10s 232us/step - loss: 14.6617 - acc: 0.0904\n",
      "Epoch 23/30\n",
      "42000/42000 [==============================] - 10s 231us/step - loss: 14.6617 - acc: 0.0904\n",
      "Epoch 24/30\n",
      "42000/42000 [==============================] - 10s 231us/step - loss: 14.6617 - acc: 0.0904\n",
      "Epoch 25/30\n",
      "42000/42000 [==============================] - 10s 230us/step - loss: 14.6617 - acc: 0.0904\n",
      "Epoch 26/30\n",
      "42000/42000 [==============================] - 10s 237us/step - loss: 14.6617 - acc: 0.0904\n",
      "Epoch 27/30\n",
      "42000/42000 [==============================] - 10s 234us/step - loss: 14.6617 - acc: 0.0904\n",
      "Epoch 28/30\n",
      "42000/42000 [==============================] - 10s 234us/step - loss: 14.6617 - acc: 0.0904\n",
      "Epoch 29/30\n",
      "42000/42000 [==============================] - 10s 236us/step - loss: 14.6617 - acc: 0.0904\n",
      "Epoch 30/30\n",
      "42000/42000 [==============================] - 10s 234us/step - loss: 14.6617 - acc: 0.0904\n"
     ]
    },
    {
     "data": {
      "text/plain": [
       "<tensorflow.python.keras.callbacks.History at 0x226558fc1d0>"
      ]
     },
     "execution_count": 14,
     "metadata": {},
     "output_type": "execute_result"
    }
   ],
   "source": [
    "model.fit(X_train,y_train,epochs=30)"
   ]
  },
  {
   "cell_type": "code",
   "execution_count": 13,
   "metadata": {},
   "outputs": [],
   "source": [
    "predictions = model.predict(X_test)\n",
    "ans = np.argmax(predictions, axis=1)\n",
    "arr = [i+1 for i in range(0,len(X_test))]\n",
    "out = pd.DataFrame(arr,columns=[\"ImageId\"])\n",
    "out[\"label\"]=ans\n",
    "out.to_csv(\"DigitRecog.csv\",index=False)"
   ]
  },
  {
   "cell_type": "code",
   "execution_count": null,
   "metadata": {},
   "outputs": [],
   "source": []
  }
 ],
 "metadata": {
  "kernelspec": {
   "display_name": "Python 3",
   "language": "python",
   "name": "python3"
  },
  "language_info": {
   "codemirror_mode": {
    "name": "ipython",
    "version": 3
   },
   "file_extension": ".py",
   "mimetype": "text/x-python",
   "name": "python",
   "nbconvert_exporter": "python",
   "pygments_lexer": "ipython3",
   "version": "3.6.7"
  }
 },
 "nbformat": 4,
 "nbformat_minor": 2
}
