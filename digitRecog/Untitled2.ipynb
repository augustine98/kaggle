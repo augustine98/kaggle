{
 "cells": [
  {
   "cell_type": "code",
   "execution_count": 1,
   "metadata": {},
   "outputs": [
    {
     "name": "stdout",
     "output_type": "stream",
     "text": [
      " Volume in drive C has no label.\n",
      " Volume Serial Number is D3C1-50E0\n",
      "\n",
      " Directory of C:\\Users\\augus\\Dev\\Python\\digitRecog\n",
      "\n",
      "31-12-2018  04.33 AM    <DIR>          .\n",
      "31-12-2018  04.33 AM    <DIR>          ..\n",
      "31-12-2018  04.33 AM    <DIR>          .ipynb_checkpoints\n",
      "29-12-2018  11.07 PM           188,430 digitHead.csv\n",
      "29-12-2018  11.07 PM               243 rec.py\n",
      "29-12-2018  11.48 PM           240,909 sample_submission.csv\n",
      "30-12-2018  01.02 AM           240,909 submit.csv\n",
      "29-12-2018  11.48 PM        51,118,296 test.csv\n",
      "31-12-2018  02.35 AM           181,188 titano.ipynb\n",
      "29-12-2018  02.05 PM        76,775,041 train.csv\n",
      "30-12-2018  01.01 AM               696 try.py\n",
      "30-12-2018  11.54 PM           100,743 Untitled.ipynb\n",
      "31-12-2018  02.33 AM           179,005 Untitled1.ipynb\n",
      "31-12-2018  04.33 AM                72 Untitled2.ipynb\n",
      "              11 File(s)    129,025,532 bytes\n",
      "               3 Dir(s)  111,485,444,096 bytes free\n"
     ]
    }
   ],
   "source": [
    "ls\n"
   ]
  },
  {
   "cell_type": "code",
   "execution_count": 2,
   "metadata": {},
   "outputs": [
    {
     "data": {
      "text/plain": [
       "'C:\\\\Users\\\\augus\\\\Dev\\\\Python\\\\digitRecog'"
      ]
     },
     "execution_count": 2,
     "metadata": {},
     "output_type": "execute_result"
    }
   ],
   "source": [
    "pwd\n"
   ]
  },
  {
   "cell_type": "code",
   "execution_count": 3,
   "metadata": {},
   "outputs": [],
   "source": [
    "import os\n",
    "os.chdir('C:\\\\Users\\\\augus\\\\Dev\\\\Python\\\\titanic')"
   ]
  },
  {
   "cell_type": "code",
   "execution_count": 40,
   "metadata": {},
   "outputs": [
    {
     "ename": "TypeError",
     "evalue": "clean() takes 1 positional argument but 2 were given",
     "output_type": "error",
     "traceback": [
      "\u001b[1;31m---------------------------------------------------------------------------\u001b[0m",
      "\u001b[1;31mTypeError\u001b[0m                                 Traceback (most recent call last)",
      "\u001b[1;32m<ipython-input-40-425dd06e218f>\u001b[0m in \u001b[0;36m<module>\u001b[1;34m()\u001b[0m\n\u001b[0;32m     19\u001b[0m \u001b[1;33m\u001b[0m\u001b[0m\n\u001b[0;32m     20\u001b[0m \u001b[1;33m\u001b[0m\u001b[0m\n\u001b[1;32m---> 21\u001b[1;33m \u001b[0mpId_tr\u001b[0m\u001b[1;33m,\u001b[0m \u001b[0mX_train\u001b[0m\u001b[1;33m,\u001b[0m\u001b[0my_train\u001b[0m \u001b[1;33m=\u001b[0m\u001b[0muti\u001b[0m\u001b[1;33m.\u001b[0m\u001b[0mclean\u001b[0m\u001b[1;33m(\u001b[0m\u001b[0mX_tr\u001b[0m\u001b[1;33m,\u001b[0m\u001b[1;32mFalse\u001b[0m\u001b[1;33m)\u001b[0m\u001b[1;33m\u001b[0m\u001b[0m\n\u001b[0m\u001b[0;32m     22\u001b[0m \u001b[0mpId_ts\u001b[0m\u001b[1;33m,\u001b[0m \u001b[0mX_test\u001b[0m\u001b[1;33m,\u001b[0m\u001b[0my_test\u001b[0m \u001b[1;33m=\u001b[0m\u001b[0muti\u001b[0m\u001b[1;33m.\u001b[0m\u001b[0mclean\u001b[0m\u001b[1;33m(\u001b[0m\u001b[0mX_ts\u001b[0m\u001b[1;33m,\u001b[0m\u001b[1;32mTrue\u001b[0m\u001b[1;33m)\u001b[0m\u001b[1;33m\u001b[0m\u001b[0m\n\u001b[0;32m     23\u001b[0m \u001b[1;33m\u001b[0m\u001b[0m\n",
      "\u001b[1;31mTypeError\u001b[0m: clean() takes 1 positional argument but 2 were given"
     ]
    }
   ],
   "source": [
    "import pandas as pd\n",
    "import matplotlib.pyplot as plt\n",
    "import numpy as np\n",
    "import uti\n",
    "from sklearn.tree import DecisionTreeClassifier\n",
    "from sklearn.ensemble import RandomForestClassifier\n",
    "#from sklearn.preprocessing import MinMaxScaler\n",
    "from sklearn.model_selection import train_test_split\n",
    "\n",
    "\n",
    "X_tr = pd.read_csv('train.csv')\n",
    "X_ts= pd.read_csv('test.csv')\n",
    "\n",
    "\n",
    "#X=df\n",
    "\n",
    "#y=df[[\"Survived\"]]\n",
    "#X_tr,X_ts,a,b = train_test_split(X,y,test_size=0.3,random_state=42)\n",
    "\n",
    "\n",
    "pId_tr, X_train,y_train =uti.clean(X_tr,False)\n",
    "pId_ts, X_test,y_test =uti.clean(X_ts,True)\n",
    "\n",
    "print( \" Train Size \", X_train.shape)\n",
    "print( \" Train Size \", y_train.shape)\n",
    "print( \" Train Size \", X_test.shape)\n",
    "print( \" Train Size \", y_test.shape)\n",
    "\n",
    "\n",
    "\n",
    "model =DecisionTreeClassifier()\n",
    "model.fit(X_train,y_train)\n",
    "predictions = model.predict(X_test)\n",
    "\n",
    "\"\"\"\n",
    "print(X_train.head())\n",
    "print(y_train.head())\n",
    "print(X_test.head())\n",
    "print(y_test.head())\n",
    "\"\"\"\n",
    "\"\"\"\n",
    "#print(len(predictions))\n",
    "#print(predictions)\n",
    "out = y_test[\"Survived\"].values\n",
    "#print(out)\n",
    "\n",
    "scor = [predictions==out]\n",
    "print(scor)\n",
    "print(np.sum(sum(scor)))\n",
    "\n",
    "\"\"\"\n",
    "\n",
    "\n",
    "random_forest = RandomForestClassifier(criterion = \"gini\", \n",
    "                                       min_samples_leaf = 1, \n",
    "                                       min_samples_split = 10,   \n",
    "                                       n_estimators=100, \n",
    "                                       max_features='auto', \n",
    "                                       oob_score=True, \n",
    "                                       random_state=1, \n",
    "                                       n_jobs=-1)\n",
    "\n",
    "random_forest.fit(X_train, y_train)\n",
    "Y_prediction = random_forest.predict(X_test)\n",
    "print(\"Score with random forest \",random_forest.score(X_train, y_train))\n",
    "\n",
    "\"\"\"\n",
    "scor = [Y_prediction==out]\n",
    "print(scor)\n",
    "print(np.sum(sum(scor)))\n",
    "\"\"\""
   ]
  },
  {
   "cell_type": "code",
   "execution_count": 26,
   "metadata": {},
   "outputs": [
    {
     "data": {
      "text/plain": [
       "0.742296918767507"
      ]
     },
     "execution_count": 26,
     "metadata": {},
     "output_type": "execute_result"
    }
   ],
   "source": [
    "265/357"
   ]
  },
  {
   "cell_type": "code",
   "execution_count": 23,
   "metadata": {},
   "outputs": [
    {
     "data": {
      "text/plain": [
       "98.07"
      ]
     },
     "execution_count": 23,
     "metadata": {},
     "output_type": "execute_result"
    }
   ],
   "source": [
    "round(model.score(X_train, y_train) * 100, 2)"
   ]
  },
  {
   "cell_type": "code",
   "execution_count": 35,
   "metadata": {},
   "outputs": [
    {
     "data": {
      "text/plain": [
       "0.8208955223880597"
      ]
     },
     "execution_count": 35,
     "metadata": {},
     "output_type": "execute_result"
    }
   ],
   "source": [
    "220/268"
   ]
  },
  {
   "cell_type": "code",
   "execution_count": null,
   "metadata": {},
   "outputs": [],
   "source": []
  },
  {
   "cell_type": "code",
   "execution_count": null,
   "metadata": {},
   "outputs": [],
   "source": []
  }
 ],
 "metadata": {
  "kernelspec": {
   "display_name": "Python 3",
   "language": "python",
   "name": "python3"
  },
  "language_info": {
   "codemirror_mode": {
    "name": "ipython",
    "version": 3
   },
   "file_extension": ".py",
   "mimetype": "text/x-python",
   "name": "python",
   "nbconvert_exporter": "python",
   "pygments_lexer": "ipython3",
   "version": "3.7.0"
  }
 },
 "nbformat": 4,
 "nbformat_minor": 2
}
